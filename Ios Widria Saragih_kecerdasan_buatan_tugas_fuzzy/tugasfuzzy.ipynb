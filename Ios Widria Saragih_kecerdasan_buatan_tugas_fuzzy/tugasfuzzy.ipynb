{
 "cells": [
  {
   "cell_type": "code",
   "execution_count": 1,
   "metadata": {},
   "outputs": [
    {
     "name": "stdout",
     "output_type": "stream",
     "text": [
      "Output produksi (unit): 4677.08333333331\n"
     ]
    }
   ],
   "source": [
    "import numpy as np\n",
    "import skfuzzy as fuzz\n",
    "\n",
    "# Fungsi Keanggotaan Permintaan\n",
    "def permintaan(x):\n",
    "    turun = fuzz.trimf(x, [0, 0, 3000])\n",
    "    tetap = fuzz.trimf(x, [2000, 3000, 4000])\n",
    "    naik = fuzz.trimf(x, [3000, 6000, 6000])\n",
    "    return turun, tetap, naik\n",
    "\n",
    "# Fungsi Keanggotaan Persediaan\n",
    "def persediaan(x):\n",
    "    sedikit = fuzz.trimf(x, [0, 0, 500])\n",
    "    sedang = fuzz.trimf(x, [200, 500, 800])\n",
    "    banyak = fuzz.trimf(x, [500, 1000, 1000])\n",
    "    return sedikit, sedang, banyak\n",
    "\n",
    "# Fungsi Keanggotaan Produksi\n",
    "def produksi(x):\n",
    "    berkurang = fuzz.trimf(x, [0, 0, 5000])\n",
    "    bertambah = fuzz.trimf(x, [2000, 10000, 10000])\n",
    "    return berkurang, bertambah\n",
    "\n",
    "# Inferensi Tsukamoto\n",
    "def inferensi_tsukamoto(permintaan_input, persediaan_input):\n",
    "    # Domain variabel\n",
    "    x_permintaan = np.arange(0, 7001, 1)\n",
    "    x_persediaan = np.arange(0, 1001, 1)\n",
    "    x_produksi = np.arange(0, 10001, 1)\n",
    "\n",
    "    # Keanggotaan fuzzy\n",
    "    turun, tetap, naik = permintaan(x_permintaan)\n",
    "    sedikit, sedang, banyak = persediaan(x_persediaan)\n",
    "    berkurang, bertambah = produksi(x_produksi)\n",
    "\n",
    "    # Derajat keanggotaan input\n",
    "    permintaan_turun = fuzz.interp_membership(x_permintaan, turun, permintaan_input)\n",
    "    permintaan_tetap = fuzz.interp_membership(x_permintaan, tetap, permintaan_input)\n",
    "    permintaan_naik = fuzz.interp_membership(x_permintaan, naik, permintaan_input)\n",
    "\n",
    "    persediaan_sedikit = fuzz.interp_membership(x_persediaan, sedikit, persediaan_input)\n",
    "    persediaan_sedang = fuzz.interp_membership(x_persediaan, sedang, persediaan_input)\n",
    "    persediaan_banyak = fuzz.interp_membership(x_persediaan, banyak, persediaan_input)\n",
    "\n",
    "    # Inferensi aturan\n",
    "    rules = []\n",
    "    rules.append((min(permintaan_turun, persediaan_sedikit), bertambah))\n",
    "    rules.append((min(permintaan_turun, persediaan_sedang), berkurang))\n",
    "    rules.append((min(permintaan_turun, persediaan_banyak), berkurang))\n",
    "    rules.append((min(permintaan_tetap, persediaan_sedikit), bertambah))\n",
    "    rules.append((min(permintaan_tetap, persediaan_sedang), berkurang))\n",
    "    rules.append((min(permintaan_tetap, persediaan_banyak), berkurang))\n",
    "    rules.append((min(permintaan_naik, persediaan_sedikit), bertambah))\n",
    "    rules.append((min(permintaan_naik, persediaan_sedang), bertambah))\n",
    "    rules.append((min(permintaan_naik, persediaan_banyak), berkurang))\n",
    "\n",
    "    # Perhitungan output\n",
    "    produk = []\n",
    "    for rule_strength, output in rules:\n",
    "        z = fuzz.defuzz(x_produksi, output, 'centroid')\n",
    "        produk.append(rule_strength * z)\n",
    "\n",
    "    hasil = sum(produk) / sum(rule[0] for rule in rules)\n",
    "    return hasil\n",
    "\n",
    "# Contoh Penghitungan\n",
    "permintaan_input = 2500  # Contoh input permintaan\n",
    "persediaan_input = 300   # Contoh input persediaan\n",
    "produksi_output = inferensi_tsukamoto(permintaan_input, persediaan_input)\n",
    "\n",
    "print(\"Output produksi (unit):\", produksi_output)\n"
   ]
  },
  {
   "cell_type": "code",
   "execution_count": null,
   "metadata": {},
   "outputs": [],
   "source": []
  }
 ],
 "metadata": {
  "kernelspec": {
   "display_name": "Python 3",
   "language": "python",
   "name": "python3"
  },
  "language_info": {
   "codemirror_mode": {
    "name": "ipython",
    "version": 3
   },
   "file_extension": ".py",
   "mimetype": "text/x-python",
   "name": "python",
   "nbconvert_exporter": "python",
   "pygments_lexer": "ipython3",
   "version": "3.12.6"
  }
 },
 "nbformat": 4,
 "nbformat_minor": 2
}
